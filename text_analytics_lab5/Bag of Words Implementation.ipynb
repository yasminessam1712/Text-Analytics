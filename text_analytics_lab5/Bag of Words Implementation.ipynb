{
 "cells": [
  {
   "cell_type": "markdown",
   "id": "3eef7767-728f-4584-8ac9-27f3a2bb0cdb",
   "metadata": {},
   "source": [
    "1. Import necessary libraries"
   ]
  },
  {
   "cell_type": "code",
   "execution_count": 1,
   "id": "21779d55-dfcb-40dc-b25c-65de539a0f7c",
   "metadata": {},
   "outputs": [],
   "source": [
    "from collections import Counter  \n",
    "import pandas as pd"
   ]
  },
  {
   "cell_type": "markdown",
   "id": "ea56694a-1078-451f-926e-0ade75f6b291",
   "metadata": {},
   "source": [
    "2. Load pre-processed file"
   ]
  },
  {
   "cell_type": "code",
   "execution_count": 8,
   "id": "9e3976f1-ecec-462c-85d0-2d244051066d",
   "metadata": {},
   "outputs": [],
   "source": [
    "file_path = \"Processed_Reviews.csv\"\n",
    "df = pd.read_csv(file_path)"
   ]
  },
  {
   "cell_type": "markdown",
   "id": "330c0221-d159-44a6-8617-637b6a8291b9",
   "metadata": {},
   "source": [
    "3. Extract the tokenized text data"
   ]
  },
  {
   "cell_type": "code",
   "execution_count": 11,
   "id": "e5cd515f-7418-4422-a7e9-242ade33fe98",
   "metadata": {},
   "outputs": [],
   "source": [
    "tokenized_reviews = df['tokenized'].dropna().apply(eval)"
   ]
  },
  {
   "cell_type": "markdown",
   "id": "6bd1ee4a-8a1f-47f3-907d-f98e391d0012",
   "metadata": {},
   "source": [
    "4. List all unique words"
   ]
  },
  {
   "cell_type": "code",
   "execution_count": 14,
   "id": "ab170c13-55ee-415f-ba7b-939eef833af3",
   "metadata": {},
   "outputs": [],
   "source": [
    "all_words = [word for review in tokenized_reviews for word in review]\n",
    "unique_words = list(set(all_words))"
   ]
  },
  {
   "cell_type": "markdown",
   "id": "d54374d4-010c-47ea-9d41-f092fd78f856",
   "metadata": {},
   "source": [
    "5. Create word frequency table"
   ]
  },
  {
   "cell_type": "code",
   "execution_count": 17,
   "id": "6705f88a-edf2-4ec5-b08a-28e7798070d0",
   "metadata": {},
   "outputs": [],
   "source": [
    "word_freq = Counter(all_words)\n",
    "sorted_word_freq = dict(sorted(word_freq.items(), key=lambda item: item[1], reverse=True))"
   ]
  },
  {
   "cell_type": "markdown",
   "id": "2b5da404-7f58-4963-928a-50ceeeae4310",
   "metadata": {},
   "source": [
    "6. Create document vectors"
   ]
  },
  {
   "cell_type": "code",
   "execution_count": 20,
   "id": "46661d4e-2c45-4577-8a8d-29c70fba5039",
   "metadata": {},
   "outputs": [],
   "source": [
    "document_vectors = []\n",
    "for review in tokenized_reviews:\n",
    "    document_vector = [1 if word in review else 0 for word in sorted_word_freq.keys()]\n",
    "    document_vectors.append(document_vector)"
   ]
  },
  {
   "cell_type": "markdown",
   "id": "b3d480b0-f2c2-45c3-ad4f-e95522009e4f",
   "metadata": {},
   "source": [
    "7. Convert document vectors to DataFrame"
   ]
  },
  {
   "cell_type": "code",
   "execution_count": 23,
   "id": "9e903447-9357-4d0f-a4ea-31c2f1dcf52f",
   "metadata": {},
   "outputs": [],
   "source": [
    "doc_vectors_df = pd.DataFrame(document_vectors, columns=sorted_word_freq.keys())"
   ]
  },
  {
   "cell_type": "markdown",
   "id": "5e24ec59-16c4-403d-be01-0f203385b1e1",
   "metadata": {},
   "source": [
    "8. Save document vectors to CSV file"
   ]
  },
  {
   "cell_type": "code",
   "execution_count": 26,
   "id": "9d3a1534-4693-458b-93cc-ed497cf4b003",
   "metadata": {},
   "outputs": [],
   "source": [
    "doc_vectors_df.to_csv(\"document_vectors.csv\", index=False)"
   ]
  },
  {
   "cell_type": "markdown",
   "id": "ec427388-f2fc-4012-841c-df0ea6a96f4e",
   "metadata": {},
   "source": [
    "9. Display word frequency table"
   ]
  },
  {
   "cell_type": "code",
   "execution_count": 29,
   "id": "5d3bc62f-6256-4b64-9400-924259d406e0",
   "metadata": {},
   "outputs": [
    {
     "name": "stdout",
     "output_type": "stream",
     "text": [
      "Word Frequency Table:\n",
      "           Word  Frequency\n",
      "0       product          7\n",
      "1       quality          3\n",
      "2         great          2\n",
      "3       amazing          2\n",
      "4          love          2\n",
      "5       awesome          2\n",
      "6          work          2\n",
      "7     perfectly          2\n",
      "8          life          2\n",
      "9        expect          2\n",
      "10       arrive          1\n",
      "11         time          1\n",
      "12    packaging          1\n",
      "13        amaze          1\n",
      "14          buy          1\n",
      "15        phone          1\n",
      "16           hz          1\n",
      "17      display          1\n",
      "18      totally          1\n",
      "19        worth          1\n",
      "20          wow          1\n",
      "21          bit          1\n",
      "22    expensive          1\n",
      "23       laptop          1\n",
      "24         fine          1\n",
      "25        check          1\n",
      "26         full          1\n",
      "27       detail          1\n",
      "28     purchase          1\n",
      "29        happy          1\n",
      "30      battery          1\n",
      "31    excellent          1\n",
      "32       charge          1\n",
      "33        cable          1\n",
      "34        short          1\n",
      "35          can          1\n",
      "36          not          1\n",
      "37      believe          1\n",
      "38         good          1\n",
      "39         fast          1\n",
      "40     delivery          1\n",
      "41       honest          1\n",
      "42         much          1\n",
      "43           oh          1\n",
      "44          god          1\n",
      "45         best          1\n",
      "46         ever          1\n",
      "47          use          1\n",
      "48         shoe          1\n",
      "49  comfortable          1\n",
      "50          fit          1\n",
      "51       nicely          1\n",
      "52          jog          1\n"
     ]
    }
   ],
   "source": [
    "word_freq_df = pd.DataFrame(list(sorted_word_freq.items()), columns=[\"Word\", \"Frequency\"])\n",
    "print(\"Word Frequency Table:\")\n",
    "print(word_freq_df)"
   ]
  },
  {
   "cell_type": "code",
   "execution_count": null,
   "id": "0cb76d40-1e3e-4c50-9af5-f5ee26a31865",
   "metadata": {},
   "outputs": [],
   "source": []
  }
 ],
 "metadata": {
  "kernelspec": {
   "display_name": "Python [conda env:base] *",
   "language": "python",
   "name": "conda-base-py"
  },
  "language_info": {
   "codemirror_mode": {
    "name": "ipython",
    "version": 3
   },
   "file_extension": ".py",
   "mimetype": "text/x-python",
   "name": "python",
   "nbconvert_exporter": "python",
   "pygments_lexer": "ipython3",
   "version": "3.12.7"
  }
 },
 "nbformat": 4,
 "nbformat_minor": 5
}
