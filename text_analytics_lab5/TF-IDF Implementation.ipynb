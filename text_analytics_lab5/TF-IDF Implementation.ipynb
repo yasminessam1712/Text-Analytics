{
 "cells": [
  {
   "cell_type": "markdown",
   "id": "2aad8862-6e8e-482c-a100-3e60de54907f",
   "metadata": {},
   "source": [
    "1. Import necessary libraries"
   ]
  },
  {
   "cell_type": "code",
   "execution_count": 1,
   "id": "672ad199-adb3-4f03-80a7-51c60646b01b",
   "metadata": {},
   "outputs": [],
   "source": [
    "import pandas as pd\n",
    "import math  # use for log function\n",
    "from collections import Counter"
   ]
  },
  {
   "cell_type": "markdown",
   "id": "3e2f76ff-8545-4cae-9845-b0f28890e267",
   "metadata": {},
   "source": [
    "2. Load pre-processed file"
   ]
  },
  {
   "cell_type": "code",
   "execution_count": 3,
   "id": "dfcad6ee-c769-43db-b936-8570a02f7a6c",
   "metadata": {},
   "outputs": [],
   "source": [
    "file_path = \"Processed_Reviews.csv\"\n",
    "df = pd.read_csv(file_path)"
   ]
  },
  {
   "cell_type": "markdown",
   "id": "cfc9666f-a5c5-4326-a2a8-7357a8957b55",
   "metadata": {},
   "source": [
    "3. Extract the tokenized text data"
   ]
  },
  {
   "cell_type": "code",
   "execution_count": 5,
   "id": "743f0669-c40b-48ec-bce5-420d6090d8c1",
   "metadata": {},
   "outputs": [],
   "source": [
    "tokenized_reviews = df['tokenized'].dropna().apply(eval)"
   ]
  },
  {
   "cell_type": "markdown",
   "id": "b91583aa-5850-4571-89ad-3009adafcf6c",
   "metadata": {},
   "source": [
    "4. Function to compute Term Frequency (TF)"
   ]
  },
  {
   "cell_type": "code",
   "execution_count": 7,
   "id": "2dc3d660-c348-40df-b758-d02879cf625d",
   "metadata": {},
   "outputs": [],
   "source": [
    "def compute_tf(document):\n",
    "    word_count = Counter(document)\n",
    "    tf = {word: count / len(document) for word, count in word_count.items()}\n",
    "    return tf"
   ]
  },
  {
   "cell_type": "markdown",
   "id": "23ef88a2-dffb-4150-9ea8-2a9b41723e50",
   "metadata": {},
   "source": [
    "5. Function to compute Inverse Document Frequency (IDF)"
   ]
  },
  {
   "cell_type": "code",
   "execution_count": 9,
   "id": "ea308aba-0b80-4cf8-a2e1-b7cafd0db151",
   "metadata": {},
   "outputs": [],
   "source": [
    "def compute_idf(documents):\n",
    "    N = len(documents)  # Total number of documents\n",
    "    idf = {}\n",
    "    all_words = set(word for doc in documents for word in doc)  # Unique words\n",
    "    for word in all_words:\n",
    "        count = sum(1 for doc in documents if word in doc)\n",
    "        idf[word] = math.log(N / count)\n",
    "    return idf"
   ]
  },
  {
   "cell_type": "markdown",
   "id": "41c8bc6f-e5ab-4f77-a609-5e1b846ebef5",
   "metadata": {},
   "source": [
    " 6. Function to compute TF-IDF"
   ]
  },
  {
   "cell_type": "code",
   "execution_count": 11,
   "id": "8b1e70c6-301f-476a-804b-8822a3403701",
   "metadata": {},
   "outputs": [],
   "source": [
    "def compute_tfidf(document, idf):\n",
    "    tfidf = {}\n",
    "    tf = compute_tf(document)  # Get TF values for the document\n",
    "    for word, tf_value in tf.items():\n",
    "        tfidf[word] = tf_value * idf[word]  # Multiply TF and IDF\n",
    "    return tfidf"
   ]
  },
  {
   "cell_type": "markdown",
   "id": "3527493f-b24d-4ede-a2cc-23617734841f",
   "metadata": {},
   "source": [
    "7. Convert tokenized reviews into a List"
   ]
  },
  {
   "cell_type": "code",
   "execution_count": 13,
   "id": "f4383893-a02a-4c59-b785-4937d23ca325",
   "metadata": {},
   "outputs": [],
   "source": [
    "documents = tokenized_reviews.tolist()"
   ]
  },
  {
   "cell_type": "markdown",
   "id": "485515bb-5b50-44ca-9112-949914cb839c",
   "metadata": {},
   "source": [
    "8. Compute TF scores, convert to DataFrame and save to a CSV file"
   ]
  },
  {
   "cell_type": "code",
   "execution_count": 15,
   "id": "2d740aff-4aa8-44e0-844a-1a87c2444bf3",
   "metadata": {},
   "outputs": [],
   "source": [
    "tf_data = [compute_tf(doc) for doc in documents]\n",
    "tf_df = pd.DataFrame(tf_data).fillna(0)\n",
    "tf_df.to_csv(\"tf_scores.csv\", index=False)"
   ]
  },
  {
   "cell_type": "markdown",
   "id": "8e8da02d-51e2-48ac-873a-2b4ba9c05ea6",
   "metadata": {},
   "source": [
    "9. Compute IDF scores, convert to DataFrame and save to a CSV file"
   ]
  },
  {
   "cell_type": "code",
   "execution_count": 17,
   "id": "65f4cb17-1444-42b5-b3b9-7c2b95045b72",
   "metadata": {},
   "outputs": [],
   "source": [
    "idf = compute_idf(documents)\n",
    "idf_df = pd.DataFrame([idf]).fillna(0)\n",
    "idf_df.to_csv(\"idf_scores.csv\", index=False)"
   ]
  },
  {
   "cell_type": "markdown",
   "id": "dc8e3926-ac62-4f92-8463-c56133314e74",
   "metadata": {},
   "source": [
    "10. Compute TF-IDF scores, convert to DataFrame and save to a CSV file"
   ]
  },
  {
   "cell_type": "code",
   "execution_count": 19,
   "id": "f0e79290-99e4-4ba3-92e3-82818524c15f",
   "metadata": {},
   "outputs": [],
   "source": [
    "tfidf_data = [compute_tfidf(doc, idf) for doc in documents]\n",
    "tfidf_df = pd.DataFrame(tfidf_data).fillna(0)\n",
    "tfidf_df.to_csv(\"tfidf_scores.csv\", index=False)"
   ]
  },
  {
   "cell_type": "code",
   "execution_count": null,
   "id": "9ac9a5c1-cd7b-4e9c-a901-f1e21b4254a0",
   "metadata": {},
   "outputs": [],
   "source": []
  }
 ],
 "metadata": {
  "kernelspec": {
   "display_name": "Python [conda env:base] *",
   "language": "python",
   "name": "conda-base-py"
  },
  "language_info": {
   "codemirror_mode": {
    "name": "ipython",
    "version": 3
   },
   "file_extension": ".py",
   "mimetype": "text/x-python",
   "name": "python",
   "nbconvert_exporter": "python",
   "pygments_lexer": "ipython3",
   "version": "3.12.7"
  }
 },
 "nbformat": 4,
 "nbformat_minor": 5
}
