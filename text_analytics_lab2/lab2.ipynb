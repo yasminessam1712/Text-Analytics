{
 "cells": [
  {
   "cell_type": "code",
   "execution_count": 3,
   "id": "d98ffcf9-767f-4e95-a94e-9478644f7f5a",
   "metadata": {},
   "outputs": [
    {
     "name": "stdout",
     "output_type": "stream",
     "text": [
      "Digits found: ['2', '4', '5', '6', '7', '8', '9', '3', '4', '1', '2', '3', '0']\n"
     ]
    }
   ],
   "source": [
    "import re\n",
    "\n",
    "text1 = \"Order number: 24567, Tracking ID: 8934A12, Quantity: 30\"\n",
    "pattern1 = r'\\d'  \n",
    "matches1 = re.findall(pattern1, text1)\n",
    "print(\"Digits found:\", matches1)\n"
   ]
  },
  {
   "cell_type": "code",
   "execution_count": 5,
   "id": "8f6c0d2d-308d-4de4-82b7-68f432459674",
   "metadata": {},
   "outputs": [
    {
     "name": "stdout",
     "output_type": "stream",
     "text": [
      "Non-alphanumeric characters: ['!', ' ', \"'\", ' ', ' ', ' ', '?', ' ', ' ', ' ', '@', ' ', '.']\n"
     ]
    }
   ],
   "source": [
    "\n",
    "text2 = \"Welcome! How's your day going? Call me @ 3pm.\"\n",
    "pattern2 = r'[^a-zA-Z0-9]'  \n",
    "matches2 = re.findall(pattern2, text2)\n",
    "print(\"Non-alphanumeric characters:\", matches2)"
   ]
  },
  {
   "cell_type": "code",
   "execution_count": 7,
   "id": "51dbe979-12b0-4b29-af03-8e9f0e6b0f4a",
   "metadata": {},
   "outputs": [
    {
     "name": "stdout",
     "output_type": "stream",
     "text": [
      "Split text: ['Data Science', ' AI', ' and Machine Learning', ' These fields are growing fast', '']\n"
     ]
    }
   ],
   "source": [
    "text3 = \"Data Science, AI, and Machine Learning. These fields are growing fast.\"\n",
    "pattern3 = r'[,.]'  \n",
    "split_text3 = re.split(pattern3, text3)\n",
    "print(\"Split text:\", split_text3)"
   ]
  },
  {
   "cell_type": "code",
   "execution_count": 9,
   "id": "ca06ab2a-85b9-45cd-a395-4f546efd7857",
   "metadata": {},
   "outputs": [
    {
     "name": "stdout",
     "output_type": "stream",
     "text": [
      "Anonymized text: Contact us at [HIDDEN] or [HIDDEN]\n"
     ]
    }
   ],
   "source": [
    "text4 = \"Contact us at support@example.com or info@company.org\"\n",
    "pattern4 = r'\\b[A-Za-z0-9._%+-]+@[A-Za-z0-9.-]+\\.[A-Za-z]{2,}\\b'  \n",
    "new_text4 = re.sub(pattern4, \"[HIDDEN]\", text4)\n",
    "print(\"Anonymized text:\", new_text4)"
   ]
  },
  {
   "cell_type": "code",
   "execution_count": 11,
   "id": "3e7f4e27-b773-48f2-af53-b3682d101840",
   "metadata": {},
   "outputs": [
    {
     "name": "stdout",
     "output_type": "stream",
     "text": [
      "Domain types: ['com', 'edu', 'org']\n"
     ]
    }
   ],
   "source": [
    "text5 = \"Emails: user@gmail.com, admin@university.edu, info@company.org\"\n",
    "pattern5 = r'@[\\w.-]+\\.(\\w+)' \n",
    "matches5 = re.findall(pattern5, text5)\n",
    "print(\"Domain types:\", matches5)"
   ]
  },
  {
   "cell_type": "code",
   "execution_count": null,
   "id": "ab422de7-4728-49db-bad3-462f630f6a37",
   "metadata": {},
   "outputs": [],
   "source": []
  }
 ],
 "metadata": {
  "kernelspec": {
   "display_name": "Python [conda env:base] *",
   "language": "python",
   "name": "conda-base-py"
  },
  "language_info": {
   "codemirror_mode": {
    "name": "ipython",
    "version": 3
   },
   "file_extension": ".py",
   "mimetype": "text/x-python",
   "name": "python",
   "nbconvert_exporter": "python",
   "pygments_lexer": "ipython3",
   "version": "3.12.7"
  }
 },
 "nbformat": 4,
 "nbformat_minor": 5
}
