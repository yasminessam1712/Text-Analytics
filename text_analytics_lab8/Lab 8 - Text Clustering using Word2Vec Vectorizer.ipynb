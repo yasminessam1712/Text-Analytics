{
 "cells": [
  {
   "cell_type": "markdown",
   "id": "ac609d2d-e560-465d-88ef-f5e5c4409594",
   "metadata": {},
   "source": [
    "TEXT CLUSTERING USING WORD2VEC VECTORIZER"
   ]
  },
  {
   "cell_type": "markdown",
   "id": "ce53e58c-2072-4fe3-bd7b-11dd8b3811b7",
   "metadata": {},
   "source": [
    "Step 1: Import the libraries"
   ]
  },
  {
   "cell_type": "code",
   "execution_count": 2,
   "id": "f944bccc-6705-4004-afc5-95dd37228ef4",
   "metadata": {},
   "outputs": [],
   "source": [
    "import numpy as np \n",
    "from sklearn.cluster import KMeans \n",
    "from gensim.models import Word2Vec \n",
    "from tabulate import tabulate \n",
    "from collections import Counter "
   ]
  },
  {
   "cell_type": "markdown",
   "id": "666b73be-6020-4b46-acbb-35ebcbb309aa",
   "metadata": {},
   "source": [
    "Step 2: Create the documents"
   ]
  },
  {
   "cell_type": "code",
   "execution_count": 5,
   "id": "7bc7a963-d39d-47f2-85fd-8e7434534b0a",
   "metadata": {},
   "outputs": [],
   "source": [
    "dataset = [\"I love playing football on the weekends\", \n",
    "           \"I enjoy hiking and camping in the mountains\", \n",
    "           \"I like to read books and watch movies\", \n",
    "           \"I prefer playing video games over sports\", \n",
    "           \"I love listening to music and going to concerts\"] \n"
   ]
  },
  {
   "cell_type": "markdown",
   "id": "1747b6d8-4199-4df9-a1ca-6ff0b9b26b61",
   "metadata": {},
   "source": [
    "Step 3: Train Word2Vec model"
   ]
  },
  {
   "cell_type": "code",
   "execution_count": 8,
   "id": "a8af4a15-8cb1-4e1f-8518-21383bd855a8",
   "metadata": {},
   "outputs": [],
   "source": [
    "tokenized_dataset = [doc.split() for doc in dataset] \n",
    "word2vec_model = Word2Vec(sentences=tokenized_dataset, vector_size=100, window=5, min_count=1, workers=4) "
   ]
  },
  {
   "cell_type": "markdown",
   "id": "d89e5a20-c3b9-47b8-8b99-79f6367fc294",
   "metadata": {},
   "source": [
    "Step 4: Create document embeddings"
   ]
  },
  {
   "cell_type": "code",
   "execution_count": 11,
   "id": "4a7ff54e-3309-48f4-a68a-80d630aeb94b",
   "metadata": {},
   "outputs": [],
   "source": [
    "X = np.array([np.mean([word2vec_model.wv[word] for word in doc.split() if word in word2vec_model.wv], axis=0) for doc in dataset]) "
   ]
  },
  {
   "cell_type": "markdown",
   "id": "f427ce5d-0cf7-4869-8440-e2def82fda33",
   "metadata": {},
   "source": [
    "Step 5: Perform clustering"
   ]
  },
  {
   "cell_type": "code",
   "execution_count": 14,
   "id": "d1c59009-22d4-41f9-8fc2-4b3ce07e5891",
   "metadata": {},
   "outputs": [
    {
     "name": "stdout",
     "output_type": "stream",
     "text": [
      "Document                                           Predicted Cluster\n",
      "-----------------------------------------------  -------------------\n",
      "I love playing football on the weekends                            1\n",
      "I enjoy hiking and camping in the mountains                        1\n",
      "I like to read books and watch movies                              0\n",
      "I prefer playing video games over sports                           1\n",
      "I love listening to music and going to concerts                    0\n"
     ]
    },
    {
     "name": "stderr",
     "output_type": "stream",
     "text": [
      "C:\\Users\\VICTUS\\anaconda3\\Lib\\site-packages\\sklearn\\cluster\\_kmeans.py:1429: UserWarning: KMeans is known to have a memory leak on Windows with MKL, when there are less chunks than available threads. You can avoid it by setting the environment variable OMP_NUM_THREADS=1.\n",
      "  warnings.warn(\n"
     ]
    }
   ],
   "source": [
    "k = 2  # Define the number of clusters\n",
    "km = KMeans(n_clusters=k) \n",
    "km.fit(X)\n",
    "\n",
    "# Predict the clusters for each document\n",
    "y_pred = km.predict(X)\n",
    "\n",
    "# Tabulate the document and predicted cluster\n",
    "table_data = [[\"Document\", \"Predicted Cluster\"]] \n",
    "table_data.extend([[doc, cluster] for doc, cluster in zip(dataset, y_pred)]) \n",
    "print(tabulate(table_data, headers=\"firstrow\"))\n"
   ]
  },
  {
   "cell_type": "markdown",
   "id": "b6f470e6-2bc3-4a69-93b0-725b787be04f",
   "metadata": {},
   "source": [
    " Step 5: Evaluate results"
   ]
  },
  {
   "cell_type": "code",
   "execution_count": 17,
   "id": "ce4fc226-feb9-4a5a-adb7-a7d79e002a45",
   "metadata": {},
   "outputs": [
    {
     "name": "stdout",
     "output_type": "stream",
     "text": [
      "Purity: 0.6\n"
     ]
    }
   ],
   "source": [
    "# Calculate purity\n",
    "total_samples = len(y_pred) \n",
    "cluster_label_counts = [Counter(y_pred)] \n",
    "purity = sum(max(cluster.values()) for cluster in cluster_label_counts) / total_samples \n",
    "print(\"Purity:\", purity)"
   ]
  },
  {
   "cell_type": "code",
   "execution_count": null,
   "id": "ce1a01af-f145-4747-bf65-414d3c4c7027",
   "metadata": {},
   "outputs": [],
   "source": []
  },
  {
   "cell_type": "code",
   "execution_count": null,
   "id": "c659d8f0-ead2-43bf-ab2d-14479b724cde",
   "metadata": {},
   "outputs": [],
   "source": []
  }
 ],
 "metadata": {
  "kernelspec": {
   "display_name": "Python [conda env:base] *",
   "language": "python",
   "name": "conda-base-py"
  },
  "language_info": {
   "codemirror_mode": {
    "name": "ipython",
    "version": 3
   },
   "file_extension": ".py",
   "mimetype": "text/x-python",
   "name": "python",
   "nbconvert_exporter": "python",
   "pygments_lexer": "ipython3",
   "version": "3.12.7"
  }
 },
 "nbformat": 4,
 "nbformat_minor": 5
}
